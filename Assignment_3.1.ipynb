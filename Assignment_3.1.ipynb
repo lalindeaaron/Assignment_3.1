{
 "cells": [
  {
   "cell_type": "markdown",
   "metadata": {},
   "source": [
    "## Write a Python Program to implement your own myreduce() function which works exactly like Python's built-in function reduce()"
   ]
  },
  {
   "cell_type": "markdown",
   "metadata": {},
   "source": [
    "The function reduce(function, sequence) continually applies the function to the sequence. It then returns a single value.\n",
    "\n",
    "If seq = [s1, s2, s3, ... , sn], calling reduce(function, sequence) works like this:\n",
    "\n",
    "At first the first two elements of sequence will be applied to function, i.e. func(s1,s2)\n",
    "The list on which reduce() works looks like this: [ function(s1, s2), s3, ... , sn ]\n",
    "In the next step the function will be applied on the previous result and the third element of the list, i.e. function(function(s1, s2),s3)\n",
    "The list looks like: [ function(function(s1, s2),s3), ... , sn ]\n",
    "It continues like this until just one element is left and return this element as the result of reduce()\n"
   ]
  },
  {
   "cell_type": "code",
   "execution_count": 1,
   "metadata": {},
   "outputs": [
    {
     "name": "stdout",
     "output_type": "stream",
     "text": [
      "[10]\n"
     ]
    }
   ],
   "source": [
    "def add(x,y):\n",
    "    return x + y\n",
    "\n",
    "def my_reduce(function,sequence):\n",
    "    while len(sequence) > 1:\n",
    "        z = function(sequence[0],sequence[1])\n",
    "        sequence.pop(0)\n",
    "        sequence.pop(0)\n",
    "        sequence = [z] + sequence\n",
    "    return sequence\n",
    "\n",
    "if __name__ == '__main__':\n",
    "    print (my_reduce(add, [1,2,3,4]))"
   ]
  },
  {
   "cell_type": "markdown",
   "metadata": {},
   "source": [
    "my_reduce function works by taking a sequence of values and appling the first two elements to a function. then once we have our new value it replaces the first two by \"popping\" them off of the original sequence and adding the new value. this is running until there is only one value left, therefore reducing the sequence to a final value or final answer of the function.  \n",
    "\n",
    "\n",
    "Lets compare it with the built in reduce() function from python."
   ]
  },
  {
   "cell_type": "code",
   "execution_count": 3,
   "metadata": {},
   "outputs": [
    {
     "data": {
      "text/plain": [
       "10"
      ]
     },
     "execution_count": 3,
     "metadata": {},
     "output_type": "execute_result"
    }
   ],
   "source": [
    "from functools import reduce\n",
    "lst =[1,2,3,4]\n",
    "reduce(lambda x,y: x+y,lst)"
   ]
  }
 ],
 "metadata": {
  "kernelspec": {
   "display_name": "Python 3",
   "language": "python",
   "name": "python3"
  },
  "language_info": {
   "codemirror_mode": {
    "name": "ipython",
    "version": 3
   },
   "file_extension": ".py",
   "mimetype": "text/x-python",
   "name": "python",
   "nbconvert_exporter": "python",
   "pygments_lexer": "ipython3",
   "version": "3.6.4"
  }
 },
 "nbformat": 4,
 "nbformat_minor": 2
}
